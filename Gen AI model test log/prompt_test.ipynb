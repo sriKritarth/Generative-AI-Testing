{
 "cells": [
  {
   "cell_type": "markdown",
   "id": "4f097472",
   "metadata": {},
   "source": [
    "####   GenAI Tool Testing "
   ]
  },
  {
   "cell_type": "code",
   "execution_count": 1,
   "id": "05ef2c28",
   "metadata": {},
   "outputs": [
    {
     "data": {
      "text/plain": [
       "True"
      ]
     },
     "execution_count": 1,
     "metadata": {},
     "output_type": "execute_result"
    }
   ],
   "source": [
    "from dotenv import load_dotenv\n",
    "load_dotenv()"
   ]
  },
  {
   "cell_type": "markdown",
   "id": "e460e2aa",
   "metadata": {},
   "source": [
    "###  Factual Question"
   ]
  },
  {
   "cell_type": "code",
   "execution_count": 3,
   "id": "094bb110",
   "metadata": {},
   "outputs": [],
   "source": [
    "from langchain_core.prompts import PromptTemplate\n",
    "from langchain_openai import ChatOpenAI\n",
    "from langchain_core.output_parsers import StrOutputParser\n"
   ]
  },
  {
   "cell_type": "code",
   "execution_count": 9,
   "id": "ef043a21",
   "metadata": {},
   "outputs": [],
   "source": [
    "model = ChatOpenAI(model='gpt-4o', temperature=0.0 , api_key=\"sk-proj-7cYPTqA94DdeDexPgwe9Yw09yDQhywKyPkQZo84jd-KlmQR9p9G-1BKErTbRejIntD7Ml4l2T3BlbkFJI_1YhjcuAeBLeev7Q-LU56AK9TndVj-UxRnHE3kdVR5BYbKAcmhpnIgDGhgimRIog4damyIq0A\")\n",
    "prompt = PromptTemplate(\n",
    "    template=\"You are a helpful assistant. Answer the question: {question}\",\n",
    "    input_variables=['question']\n",
    ")\n",
    "output_parser = StrOutputParser()"
   ]
  },
  {
   "cell_type": "code",
   "execution_count": 10,
   "id": "8e610484",
   "metadata": {},
   "outputs": [
    {
     "data": {
      "text/plain": [
       "'The speed of light in a vacuum is approximately 299,792,458 meters per second (m/s). This value is often rounded to 300,000 kilometers per second (km/s) for simplicity in various calculations.'"
      ]
     },
     "execution_count": 10,
     "metadata": {},
     "output_type": "execute_result"
    }
   ],
   "source": [
    "chain = prompt | model | output_parser\n",
    "chain.invoke({\"question\" : \"What is the speed of light in a vacuum?\"})"
   ]
  },
  {
   "cell_type": "markdown",
   "id": "59f3f3ac",
   "metadata": {},
   "source": [
    "### Creative Writing\n"
   ]
  },
  {
   "cell_type": "code",
   "execution_count": 11,
   "id": "d0936b72",
   "metadata": {},
   "outputs": [
    {
     "data": {
      "text/plain": [
       "'In the heart of the bustling city of Lumina, where skyscrapers kissed the clouds, the sky was a canvas of vibrant hues. The city never slept; its streets were alive with the hum of life, a symphony of honking cars, chattering crowds, and the distant melody of street musicians.\\n\\nAmidst the chaos, a young artist named Elara stood on the rooftop of her apartment building, her easel set against the skyline. She painted feverishly, capturing the dance of colors as the sun dipped below the horizon, casting a golden glow over the city. Her brush strokes mirrored the pulse of Lumina, each stroke a heartbeat of the metropolis.\\n\\nAs night fell, the city transformed into a sea of twinkling lights, mirroring the stars above. Elara paused, gazing at her masterpiece. In that moment, she realized the city and sky were one, a living tapestry of dreams and possibilities, forever intertwined.'"
      ]
     },
     "execution_count": 11,
     "metadata": {},
     "output_type": "execute_result"
    }
   ],
   "source": [
    "prompt1 = PromptTemplate(\n",
    "    template = \"You are a creative storyteller. Write a short story (about 150 words) based on the following prompt: {creative_prompt}\",\n",
    "    input_variables=['creative_prompt']\n",
    ")\n",
    "\n",
    "creative_chain = prompt1 | model | output_parser\n",
    "creative_chain.invoke({\"creative_prompt\" : \"A bustling city under the sky.\"})"
   ]
  },
  {
   "cell_type": "markdown",
   "id": "a7dd4b79",
   "metadata": {},
   "source": [
    "###  A long input 300+ word or a complex data"
   ]
  },
  {
   "cell_type": "code",
   "execution_count": 15,
   "id": "bab56f57",
   "metadata": {},
   "outputs": [
    {
     "name": "stdout",
     "output_type": "stream",
     "text": [
      "1. **Summary**: The history of technology is marked by significant milestones in the development of computers, programming languages, and the internet. The evolution began with early mechanical calculators and progressed to electronic computers in the mid-20th century. Programming languages evolved from machine code to high-level languages, facilitating more complex software development. The internet's inception in the late 20th century revolutionized communication and information sharing, leading to the digital age. These advancements have transformed industries, economies, and daily life, highlighting the rapid pace of technological innovation and its profound impact on society.\n",
      "\n",
      "2. **Main Themes/Key Points**:\n",
      "   - Evolution of computers from mechanical to electronic devices.\n",
      "   - Development and progression of programming languages.\n",
      "   - The transformative impact of the internet on communication and information sharing.\n",
      "   - The role of technology in driving economic and industrial change.\n",
      "   - The rapid pace of technological innovation and its societal implications.\n",
      "\n",
      "3. **Data/Statistics**: The text does not provide specific data or statistics, but it discusses the chronological progression and impact of technological advancements.\n",
      "\n",
      "4. **Question for Further Investigation**: How have recent advancements in artificial intelligence and machine learning further transformed the landscape of technology, and what potential future developments could arise from these fields?\n"
     ]
    }
   ],
   "source": [
    "long__input_prompt = PromptTemplate(\n",
    "    template = \"\"\"\n",
    "You are an expert analyst and summarizer. Given the following long text or complex data, please:\n",
    "1. Provide a concise summary (about 100 words).\n",
    "2. Identify the main themes or key points (list 3-5).\n",
    "3. If applicable, highlight any data or statistics mentioned.\n",
    "4. Suggest one question for further investigation based on the content.\n",
    "\n",
    "Here is the text to analyze : {long_input_text}\n",
    "\n",
    "Your analysis:\"\"\",\n",
    "    input_variables=['long_input_text']\n",
    ")\n",
    "\n",
    "\n",
    "long_input_chain = long__input_prompt | model | output_parser\n",
    "\n",
    "analyse = long_input_chain.invoke({\"long_input_text\" : \"This is a long input text about the history of technology, focusing on the development of computers, programming languages, and the internet.\"})\n",
    "print(analyse)"
   ]
  },
  {
   "cell_type": "code",
   "execution_count": 16,
   "id": "4cc2df13",
   "metadata": {},
   "outputs": [
    {
     "data": {
      "text/plain": [
       "1495"
      ]
     },
     "execution_count": 16,
     "metadata": {},
     "output_type": "execute_result"
    }
   ],
   "source": [
    "len(analyse)"
   ]
  },
  {
   "cell_type": "markdown",
   "id": "87d3a54d",
   "metadata": {},
   "source": [
    "###   Code base prompt"
   ]
  },
  {
   "cell_type": "code",
   "execution_count": 18,
   "id": "187eb696",
   "metadata": {},
   "outputs": [
    {
     "name": "stdout",
     "output_type": "stream",
     "text": [
      "```javascript\n",
      "console.log('Hello, World!');\n",
      "```\n"
     ]
    }
   ],
   "source": [
    "code_base_prompt = PromptTemplate(\n",
    "    template=\"\"\"\n",
    "        You are a programming assistant. Given the following code snippet in {language}, please translate it into {target_language}.\n",
    "\n",
    "       code_snippet: {code_snippet}\n",
    "\n",
    "        Your response:\n",
    "    \"\"\",\n",
    "    input_variables=['language', 'code_snippet', 'target_language']\n",
    ")\n",
    "code_base_chain = code_base_prompt | model | output_parser\n",
    "code_translation = code_base_chain.invoke({\n",
    "    \"language\": \"Python\",\n",
    "    \"code_snippet\": \"print('Hello, World!')\",\n",
    "    \"target_language\": \"JavaScript\"\n",
    "})\n",
    "print(code_translation)"
   ]
  },
  {
   "cell_type": "markdown",
   "id": "f7a725c5",
   "metadata": {},
   "source": [
    "###  Groq model"
   ]
  },
  {
   "cell_type": "code",
   "execution_count": 19,
   "id": "8dfb6e51",
   "metadata": {},
   "outputs": [],
   "source": [
    "from langchain_groq import ChatGroq\n",
    "model_groq = ChatGroq(model = \"deepseek-r1-distill-llama-70b\", temperature  = 0.0)"
   ]
  },
  {
   "cell_type": "markdown",
   "id": "61de5691",
   "metadata": {},
   "source": [
    "###  Factual Question"
   ]
  },
  {
   "cell_type": "code",
   "execution_count": 20,
   "id": "5419d818",
   "metadata": {},
   "outputs": [
    {
     "data": {
      "text/plain": [
       "\"<think>\\nOkay, so I need to figure out the speed of light in a vacuum. Hmm, I remember from school that light moves really fast, but I'm not exactly sure of the exact number. Let me think. I think it's something like 300,000 kilometers per second. Wait, was that 300,000 or 300 million? No, I think it's 300,000 because I remember it being around that number. \\n\\nWait, sometimes I've heard it expressed in meters per second. So maybe it's 300,000,000 meters per second. That makes sense because a meter is smaller than a kilometer, so you'd need more of them to make up the same distance. So 300 million meters per second sounds right. \\n\\nI also recall that scientists use a specific letter to represent it, maybe 'c'. Yeah, I think that's right. So in equations, like Einstein's famous equation E=mc², the 'c' stands for the speed of light. That must be why it's denoted that way. \\n\\nI wonder if the speed of light is the same in all conditions or if it changes in different mediums. I think in a vacuum, it's constant, but when light passes through water or glass, it slows down. So in a vacuum, there's nothing to slow it down, hence the speed is consistent. \\n\\nWait, is the exact number 299,792 kilometers per second? I think I've heard that before. So maybe it's approximately 300,000 km/s, but the precise value is a bit less. That would make sense because exact scientific numbers often have more precise figures. \\n\\nSo putting it all together, the speed of light in a vacuum is about 300,000 km/s or 300,000,000 m/s, denoted by the letter 'c', and it's a fundamental constant in physics. I think that's the answer they're looking for.\\n</think>\\n\\nThe speed of light in a vacuum is approximately 299,792 kilometers per second, or about 300,000,000 meters per second. It is denoted by the letter 'c' and is a fundamental constant in physics, remaining constant in a vacuum but slowing down in other mediums. \\n\\nAnswer: The speed of light in a vacuum is approximately 300,000,000 meters per second, denoted by 'c'.\""
      ]
     },
     "execution_count": 20,
     "metadata": {},
     "output_type": "execute_result"
    }
   ],
   "source": [
    "prompt = PromptTemplate(\n",
    "    template=\"You are a helpful assistant. Answer the question: {question}\",\n",
    "    input_variables=['question']\n",
    ")\n",
    "output_parser = StrOutputParser()\n",
    "chain_groq = prompt | model_groq | output_parser\n",
    "chain_groq.invoke({\"question\" : \"What is the speed of light in a vacuum?\"})"
   ]
  },
  {
   "cell_type": "code",
   "execution_count": 21,
   "id": "7cd6e33d",
   "metadata": {},
   "outputs": [
    {
     "data": {
      "text/plain": [
       "'<think>\\nOkay, so I need to write a short story based on the prompt \"A bustling city under the sky.\" The user provided an example story, and now they want me to create a new one. Let me think about how to approach this.\\n\\nFirst, I should consider the key elements of the prompt. \"Bustling city\" suggests a lot of activity, people moving around, maybe traffic, markets, or busy streets. \"Under the sky\" could imply that the city is open, maybe with a clear view of the sky, or perhaps it\\'s a city that\\'s built upwards, like with skyscrapers. It could also have a metaphorical meaning, like the sky being a significant part of the setting.\\n\\nLooking at the example, it\\'s 150 words, so I need to keep mine concise. The example used a city with towering skyscrapers, neon lights, bustling streets, markets, and a contrast between the busy city and the sky. It also included elements like street performers, food vendors, and a sense of diversity and energy.\\n\\nI should aim for a similar structure but with my own twist. Maybe focus on different aspects of the city, like transportation, different districts, or perhaps a unique feature under the sky, like a park or a river. I should also include sensory details—sights, sounds, smells—to make the story vivid.\\n\\nLet me brainstorm some ideas. Maybe the city has a famous square where people gather, or perhaps it\\'s known for its nightlife under the stars. I could include a scene with people from all walks of life, showing the diversity. Maybe there\\'s a contrast between old and new parts of the city, or perhaps a unique event happening under the sky, like a festival or a market.\\n\\nI should also think about the tone. The example had a vibrant and lively tone, so I\\'ll aim for something similar. Maybe start with a broad view of the city and then zoom into specific details.\\n\\nLet me outline a possible structure:\\n1. Introduce the city and its bustling nature.\\n2. Describe the skyline and the contrast between the city and the sky.\\n3. Highlight specific activities or landmarks.\\n4. Conclude with the city\\'s energy and the sky\\'s presence.\\n\\nNow, I\\'ll start drafting, keeping each paragraph concise and within the word limit. I\\'ll make sure to include a variety of details to paint a vivid picture without overcrowding the story.\\n</think>\\n\\nIn the heart of the bustling metropolis, the city square pulsed with life. Skyscrapers, a mix of ancient and modern, stood tall, their peaks kissing the clouds. Below, streets hummed with electric trams and bicycles, weaving through crowds. The square, a mosaic of cultures, was alive with street artists painting vibrant murals and musicians playing melodies that danced in the air. Food stalls wafted aromas of spices and bread, enticing passersby. As dusk fell, the sky transformed into a canvas of oranges and pinks, casting a warm glow over the city. People from all walks of life gathered, some on benches, others on steps, united under the vast sky. The city\\'s energy was palpable, a symphony of sounds and sights, yet in the chaos, there was harmony. The sky, a constant presence, reminded all of the beauty that lay just beyond the urban sprawl.'"
      ]
     },
     "execution_count": 21,
     "metadata": {},
     "output_type": "execute_result"
    }
   ],
   "source": [
    "prompt1 = PromptTemplate(\n",
    "    template = \"You are a creative storyteller. Write a short story (about 150 words) based on the following prompt: {creative_prompt}\",\n",
    "    input_variables=['creative_prompt']\n",
    ")\n",
    "\n",
    "creative_chain = prompt1 | model_groq | output_parser\n",
    "creative_chain.invoke({\"creative_prompt\" : \"A bustling city under the sky.\"})"
   ]
  },
  {
   "cell_type": "markdown",
   "id": "dd67a9ec",
   "metadata": {},
   "source": [
    "###  A long input of 300+ word or a complex data"
   ]
  },
  {
   "cell_type": "code",
   "execution_count": 22,
   "id": "48d7abec",
   "metadata": {},
   "outputs": [
    {
     "name": "stdout",
     "output_type": "stream",
     "text": [
      "<think>\n",
      "Okay, so I need to analyze this long text about the history of technology, focusing on computers, programming languages, and the internet. The user has already provided a summary, main themes, data highlights, and a question. Now, I need to think through how to approach this task if I were the one doing it for the first time.\n",
      "\n",
      "First, I should read through the text carefully to understand the overall structure and content. Since it's about the history of technology, I can expect it to cover key milestones, important inventions, and maybe some notable figures. The focus areas are computers, programming languages, and the internet, so I should pay attention to how each of these developed over time.\n",
      "\n",
      "For the summary, I need to condense the entire text into about 100 words. That means I should identify the most significant events and developments without getting too detailed. I'll probably mention the origins of computers, the evolution of programming languages, and the expansion of the internet, highlighting how these advancements have impacted society.\n",
      "\n",
      "Next, the main themes. I should list 3-5 key points that represent the core ideas of the text. These might include technological innovation, the role of programming languages in software development, the internet's impact on global communication, and maybe the interplay between hardware and software advancements.\n",
      "\n",
      "For data or statistics, I'll scan the text for any numbers or specific figures mentioned, like the year the first computer was built, the introduction of a particular programming language, or the growth rate of internet users. These specifics will add concrete evidence to the summary.\n",
      "\n",
      "Finally, suggesting a question for further investigation. This should be something that isn't fully addressed in the text but is related to the topics covered. Maybe something about the future of technology or the societal impacts of these developments.\n",
      "\n",
      "I should also make sure that my analysis is clear and concise, avoiding any unnecessary jargon. It's important to present the information in a way that's accessible, even to someone who might not be deeply familiar with the subject.\n",
      "\n",
      "Wait, I should double-check if I'm covering all the user's requirements: summary, themes, data highlights, and a question. I think I have each of those covered. I just need to ensure that each section is succinct and directly relates to the text provided.\n",
      "\n",
      "I might also consider the structure of the text. Is it chronological? Does it focus on specific inventors or companies? Understanding the structure can help me better summarize and identify themes. For example, if the text starts with the invention of the first computer and moves through time, my summary should reflect that timeline.\n",
      "\n",
      "I should also be on the lookout for any challenges or setbacks mentioned in the development of these technologies. Sometimes, understanding the obstacles can provide deeper insight into the significance of the advancements.\n",
      "\n",
      "In terms of programming languages, I might note how each new language addressed the limitations of its predecessors, leading to more efficient and user-friendly software development. For the internet, I could highlight key milestones like the invention of the World Wide Web or the rise of social media.\n",
      "\n",
      "I need to make sure that the statistics I include are relevant and add value to the summary. For example, stating the year the first computer was built gives a clear starting point, while mentioning the number of internet users today illustrates the scale of its impact.\n",
      "\n",
      "When formulating the question for further investigation, I should think about what natural follow-up would be. If the text discusses the history up to a certain point, maybe the question could be about future trends or the potential consequences of ongoing technological developments.\n",
      "\n",
      "Overall, my approach is to methodically break down the text, extract the most important information, and present it in a structured and clear manner. I need to balance detail with brevity, ensuring that each part of the analysis serves to enhance understanding without overwhelming the reader.\n",
      "</think>\n",
      "\n",
      "**Summary:**\n",
      "The history of technology is marked by significant advancements in computers, programming languages, and the internet. The journey began with the invention of the first computer, followed by the evolution of programming languages that enhanced software development. The internet revolutionized global communication, with milestones like the World Wide Web and social media. These technologies have profoundly impacted society, driving innovation and connectivity.\n",
      "\n",
      "**Main Themes:**\n",
      "1. **Technological Innovation:** The development of computers from mechanical to electronic machines.\n",
      "2. **Programming Languages:** Evolution from machine code to high-level languages, each addressing previous limitations.\n",
      "3. **Internet Expansion:** From its inception to becoming a global network, transforming communication and information access.\n",
      "\n",
      "**Data Highlights:**\n",
      "- The first computer was built in the mid-20th century.\n",
      "- The invention of the World Wide Web in 1989 by Tim Berners-Lee.\n",
      "- The rise of social media in the early 21st century.\n",
      "\n",
      "**Question for Further Investigation:**\n",
      "What future trends in computer technology, programming, and internet development are expected to shape society in the next decade?\n"
     ]
    }
   ],
   "source": [
    "long__input_prompt = PromptTemplate(\n",
    "    template = \"\"\"\n",
    "You are an expert analyst and summarizer. Given the following long text or complex data, please:\n",
    "1. Provide a concise summary (about 100 words).\n",
    "2. Identify the main themes or key points (list 3-5).\n",
    "3. If applicable, highlight any data or statistics mentioned.\n",
    "4. Suggest one question for further investigation based on the content.\n",
    "\n",
    "Here is the text to analyze : {long_input_text}\n",
    "\n",
    "Your analysis:\"\"\",\n",
    "    input_variables=['long_input_text']\n",
    ")\n",
    "\n",
    "\n",
    "long_input_chain = long__input_prompt | model_groq | output_parser\n",
    "\n",
    "analyse = long_input_chain.invoke({\"long_input_text\" : \"This is a long input text about the history of technology, focusing on the development of computers, programming languages, and the internet.\"})\n",
    "print(analyse)"
   ]
  },
  {
   "cell_type": "code",
   "execution_count": 23,
   "id": "d7265506",
   "metadata": {},
   "outputs": [
    {
     "data": {
      "text/plain": [
       "5367"
      ]
     },
     "execution_count": 23,
     "metadata": {},
     "output_type": "execute_result"
    }
   ],
   "source": [
    "len(analyse)"
   ]
  },
  {
   "cell_type": "markdown",
   "id": "5baec72c",
   "metadata": {},
   "source": [
    "#   Code base prompt"
   ]
  },
  {
   "cell_type": "code",
   "execution_count": 24,
   "id": "ae223c0f",
   "metadata": {},
   "outputs": [
    {
     "name": "stdout",
     "output_type": "stream",
     "text": [
      "<think>\n",
      "Okay, so I need to translate a Python code snippet into JavaScript. The given code is print('Hello, World!'). Let me think about how to approach this.\n",
      "\n",
      "First, I know that in Python, the print() function is used to output text to the screen. In JavaScript, the equivalent function is console.log(). So, the main task is to replace print() with console.log().\n",
      "\n",
      "Next, I should consider the syntax differences. Python uses parentheses for the print function, and so does JavaScript. However, in JavaScript, each statement typically ends with a semicolon. Python doesn't require semicolons, but JavaScript does. So I need to add a semicolon at the end.\n",
      "\n",
      "Looking at the string, it's 'Hello, World!' in both cases. The quotes can be either single or double in JavaScript, so I can keep them as single quotes here.\n",
      "\n",
      "Putting it all together, the JavaScript version should be console.log('Hello, World!');. I should make sure to include the semicolon at the end to ensure the code runs correctly.\n",
      "\n",
      "I don't think there are any other differences between the two languages for this simple statement. So the translation should be straightforward.\n",
      "</think>\n",
      "\n",
      "To translate the Python code `print('Hello, World!')` into JavaScript, we use the `console.log()` function, which is the equivalent in JavaScript for printing output. Here's the step-by-step solution:\n",
      "\n",
      "1. **Replace `print()` with `console.log()`:** In JavaScript, `console.log()` is used to output text to the console.\n",
      "2. **Add a semicolon:** JavaScript requires semicolons at the end of statements, so we add `;` at the end.\n",
      "\n",
      "The translated JavaScript code is:\n",
      "\n",
      "```javascript\n",
      "console.log('Hello, World!');\n",
      "```\n"
     ]
    }
   ],
   "source": [
    "code_base_prompt = PromptTemplate(\n",
    "    template=\"\"\"\n",
    "        You are a programming assistant. Given the following code snippet in {language}, please translate it into {target_language}.\n",
    "\n",
    "       code_snippet: {code_snippet}\n",
    "\n",
    "        Your response:\n",
    "    \"\"\",\n",
    "    input_variables=['language', 'code_snippet', 'target_language']\n",
    ")\n",
    "code_base_chain = code_base_prompt | model_groq | output_parser\n",
    "code_translation = code_base_chain.invoke({\n",
    "    \"language\": \"Python\",\n",
    "    \"code_snippet\": \"print('Hello, World!')\",\n",
    "    \"target_language\": \"JavaScript\"\n",
    "})\n",
    "print(code_translation)"
   ]
  }
 ],
 "metadata": {
  "kernelspec": {
   "display_name": "venv",
   "language": "python",
   "name": "python3"
  },
  "language_info": {
   "codemirror_mode": {
    "name": "ipython",
    "version": 3
   },
   "file_extension": ".py",
   "mimetype": "text/x-python",
   "name": "python",
   "nbconvert_exporter": "python",
   "pygments_lexer": "ipython3",
   "version": "3.13.2"
  }
 },
 "nbformat": 4,
 "nbformat_minor": 5
}
